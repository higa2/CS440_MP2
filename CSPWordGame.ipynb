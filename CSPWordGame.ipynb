{
 "cells": [
  {
   "cell_type": "code",
   "execution_count": 2,
   "metadata": {
    "collapsed": true
   },
   "outputs": [],
   "source": [
    "import urllib2"
   ]
  },
  {
   "cell_type": "code",
   "execution_count": 35,
   "metadata": {
    "collapsed": false
   },
   "outputs": [
    {
     "name": "stdout",
     "output_type": "stream",
     "text": [
      "{'emotion': ['AWE', 'CRY', 'JOY', 'MAD', 'SAD', 'WOE'], 'family': ['DAD', 'KIN', 'MOM', 'SON', 'WED'], 'color': ['BAY', 'DUN', 'HUE', 'LAC', 'JET', 'RED', 'TAN'], 'money': ['ATM', 'BUY', 'PAY', 'TAX'], 'number': ['ONE', 'TWO', 'SIX', 'TEN'], 'adjective': ['ANY', 'ARY', 'AZO', 'BON', 'BUM', 'CIS', 'DEF', 'DUN', 'FEW', 'FIT', 'HIP', 'HOT', 'ICY', 'LAW', 'MIM', 'NEE', 'NTH', 'OLD', 'RED', 'SLY', 'WEE'], 'shape': ['ARC', 'DOT', 'ORB', 'RAY'], 'computer': ['APP', 'BIT', 'BUG', 'BUS', 'CAD', 'CAM', 'CPU', 'DNS', 'FAX', 'GIF', 'HIT', 'JOB', 'KEY', 'RAM', 'RAR', 'ROM', 'TAG', 'URL', 'WEB', 'WWW', 'ZIP'], 'clothing': ['ABA', 'ALB', 'BIB', 'BOA', 'BRA', 'CAP', 'FEZ', 'FUR', 'HAT', 'OBI', 'LID', 'PJS', 'TAM', 'TEE', 'TIE', 'TOP', 'WIG'], 'palindrome': ['AHA', 'BIB', 'BUB', 'DAD', 'DID', 'EVE', 'EWE', 'EYE', 'GAG', 'HAH', 'HUH', 'MOM', 'PEP', 'POP', 'SIS', 'TNT', 'TOT', 'TUT', 'WOW'], 'container': ['BAG', 'BIN', 'BOX', 'CAN', 'CUP', 'TIN'], 'pronoun': ['ANY', 'FEW', 'HER', 'HIS', 'HIM', 'ITS', 'ONE', 'OUR', 'SHE', 'WHO', 'YOU'], 'adverb': ['AGO', 'NAE', 'NAH', 'NAW', 'NON', 'NOT', 'OFT', 'PIU', 'QUA', 'SYN', 'YEH', 'YON'], 'health': ['AIL', 'CDC', 'CUT', 'FDA', 'FLU', 'ILL', 'MED', 'NIH'], 'animal': ['ANT', 'APE', 'ASP', 'BAT', 'BEE', 'BUG', 'CAT', 'COD', 'COW', 'CUB', 'DAM', 'DOE', 'DOG', 'DZO', 'EEL', 'ELK', 'EMU', 'EWE', 'FLY', 'FOX', 'GAR', 'GNU', 'HEN', 'JAY', 'MOA', 'OWL', 'PIG', 'PUG', 'PUP', 'RAM', 'RAT', 'RAY', 'SOW', 'TEG', 'TOM', 'YAK', 'ZHO'], 'music': ['BAR', 'BOP', 'BOW', 'DIN', 'KEY', 'POP', 'RAP', 'TIE'], 'furniture': ['ARM', 'ART', 'BAR', 'BED', 'COT', 'PEW', 'RUG'], 'math': ['ADD', 'ARC', 'CAP', 'COS', 'COT', 'CSC', 'CUP', 'DAG', 'HCF', 'IFF', 'LCM', 'LOG', 'ODD', 'QED', 'RAD', 'RAY', 'SEC', 'SET', 'SIN', 'SUM', 'TAN'], 'body': ['ARM', 'EAR', 'EYE', 'HIP', 'JAW', 'LEG', 'LIP', 'RIB', 'TOE'], 'transportation': ['BUS', 'CAB', 'CAR', 'JET', 'SKI', 'SST', 'SUV', 'VAN'], 'nature': ['ALP', 'BOT', 'DAL', 'DAW', 'EFT', 'GAT', 'IFE', 'IVI', 'JUG', 'KED', 'MEW', 'NEB', 'PED', 'PUY', 'RIA', 'ROC', 'TED', 'TOW', 'VUG', 'YAY', 'ZHO'], 'food': ['BOK', 'BUN', 'CEP', 'COB', 'COD', 'DIP', 'EGG', 'FIG', 'HAM', 'JAM', 'LOX', 'NUT', 'OIL', 'OAT', 'PEA', 'PIE', 'RIB', 'RYE', 'SOY', 'SUB', 'TEA', 'YAM'], 'job': ['ACT', 'AID', 'COP', 'NUN', 'SPY'], 'verb': ['ACE', 'ACT', 'ADD', 'AIL', 'ASK', 'BAN', 'BAT', 'BEG', 'BET', 'BID', 'BOB', 'BOW', 'BOX', 'CRY', 'CUT', 'DAM', 'DIE', 'DIP', 'DIG', 'DRY', 'DYE', 'EAT', 'END', 'FAX', 'FIT', 'FRY', 'GEL', 'GET', 'HIT', 'HOP', 'HUG', 'HUM', 'ICE', 'JAB', 'JAM', 'JOG', 'LAY', 'LET', 'LIE', 'MAN', 'MAR', 'MET', 'MIX', 'MOW', 'MUG', 'NAG', 'NAP', 'NOD', 'OIL', 'OWE', 'OWN', 'PAD', 'PAT', 'PAY', 'PET', 'POP', 'PRY', 'PUT', 'ROB', 'ROT', 'ROW', 'RUB', 'RUN', 'SAW', 'SAY', 'SET', 'SEW', 'SIN', 'SIP', 'SIT', 'SKI', 'SOB', 'SOW', 'TAP', 'TIE', 'TIP', 'TOW', 'TRY', 'TUG', 'USE', 'WED', 'WIN', 'ZIP'], 'conjunction': ['AND', 'BUT', 'FOR', 'HOW', 'NOR', 'YET'], 'kitchen': ['CAN', 'CUP', 'JAR', 'JUG', 'LID', 'MUG', 'PAN', 'PIN', 'POT', 'TIN', 'WOK'], 'noun': ['ACE', 'ALE', 'ANT', 'ARM', 'ART', 'ASP', 'BAT', 'BED', 'BIT', 'BOY', 'BUN', 'CAB', 'CAR', 'CAT', 'COT', 'COW', 'CUE', 'CUT', 'DAD', 'DAM', 'DAY', 'DEN', 'DIN', 'DIP', 'DOG', 'DOT', 'DYE', 'EGG', 'ELF', 'ELM', 'END', 'EVE', 'FAD', 'FAN', 'FAT', 'FEE', 'FIB', 'FIN', 'FOG', 'FUN', 'FUR', 'GAG', 'GAP', 'GEM', 'GOB', 'GOD', 'GUM', 'GUN', 'GUT', 'GYM', 'GYP', 'HAM', 'HAT', 'HEM', 'HEX', 'HIT', 'HOD', 'HOP', 'HUG', 'HUM', 'ICE', 'IMP', 'ION', 'IRE', 'IVY', 'JAM', 'JAY', 'JET', 'JOY', 'KEY', 'KID', 'KIN', 'KIT', 'LAB', 'LAD', 'LAP', 'LEA', 'LEG', 'LID', 'LIE', 'LIP', 'LOG', 'LOT', 'MAN', 'MAP', 'MAT', 'MEN', 'NAG', 'NET', 'NIP', 'NIT', 'NOB', 'NOD', 'NUT', 'OAT', 'OBI', 'OIL', 'ONE', 'OWL', 'PAD', 'PAL', 'PAT', 'PAY', 'PEG', 'PEN', 'PIE', 'PIN', 'PIT', 'POD', 'POT', 'RAG', 'RAM', 'RAT', 'RAY', 'RED', 'RIB', 'RUM', 'RUN', 'RUT', 'RYE', 'SAC', 'SAP', 'SEA', 'SET', 'SIN', 'SIP', 'SIR', 'SOD', 'SOY', 'SUM', 'SUN', 'TAB', 'TAM', 'TAR', 'TEA', 'TEN', 'TIE', 'TIN', 'TIP', 'TOE', 'TON', 'TOP', 'TUB', 'TWO', 'URN', 'USE', 'VAN', 'VAT', 'WAD', 'WAR', 'WAX', 'YAW', 'YEN', 'YEW', 'ZOO'], 'language': ['GAN', 'LAO', 'MIN', 'TWI', 'YUE'], 'game': ['LOO', 'NAP', 'NIM', 'PAN', 'PIT', 'PUT', 'TAG', 'TIG'], 'interjection': ['AAH', 'ACK', 'AHA', 'AYE', 'BAM', 'BOO', 'DOH', 'DUH', 'EEK', 'FIE', 'FOO', 'GAH', 'GEE', 'HAH', 'HAW', 'HEM', 'HEY', 'HMM', 'HOW', 'HUH', 'HUM', 'ICK', 'MAN', 'MEH', 'NAH', 'NAW', 'NOT', 'OHO', 'OOF', 'OOH', 'PFF', 'PEW', 'RAH', 'SAY', 'SHH', 'SUP', 'TCH', 'TSK', 'TUT', 'UGH', 'WHY', 'WOW', 'YAY', 'YEA', 'YOW', 'YUM', 'ZAP', 'ZZZ']}\n"
     ]
    }
   ],
   "source": [
    "class wordDictionary:\n",
    "    def __init__(self, url):\n",
    "        #Turn into dictionary of the form (word category, list of words within that category)\n",
    "        data = urllib2.urlopen(url)\n",
    "        self.dictionary = {} \n",
    "        for line in data:\n",
    "            words = line.split(\":\")\n",
    "            category = words[0]\n",
    "            wordList = words[1].split(\", \")\n",
    "            wordList[0] = wordList[0].replace('\\t','')\n",
    "            wordList[-1] = wordList[-1].replace('\\r','').replace('\\n','')\n",
    "            self.dictionary[words[0]] = wordList\n",
    "    \n",
    "    def getLetters(self, category, position, otherLetters = (None, None, None)):\n",
    "        letters = []\n",
    "        firstLetter = otherLetters[0]\n",
    "        secondLetter = otherLetters[1]\n",
    "        thirdLetter = otherLetters[2]\n",
    "        for word in self.dictionary[category]:\n",
    "            if ((word[0] == firstLetter or firstLetter == None) and (word[1] == secondLetter or secondLetter == None) and \\\n",
    "                (word[2] == thirdLetter or thirdLetter == None)):\n",
    "                newLetter = word[position]\n",
    "                if not newLetter in letters: \n",
    "                    letters.append(newLetter)\n",
    "        return letters\n",
    "            \n",
    "    def getWords(self, category = None, otherLetters = (None, None, None)):\n",
    "        words = []\n",
    "        firstLetter = otherLetters[0]\n",
    "        secondLetter = otherLetters[1]\n",
    "        thirdLetter = otherLetters[2]\n",
    "        for word in self.dictionary[category]:\n",
    "            if ((word[0] == firstLetter or firstLetter == None) and (word[1] == secondLetter or secondLetter == None) and \\\n",
    "                (word[2] == thirdLetter or thirdLetter == None)):\n",
    "                words.append(word)\n",
    "        return words\n",
    "    \n",
    "def intersection(L1, L2):\n",
    "    newL = []\n",
    "    for e in L1:\n",
    "        if e in L2:\n",
    "            newL.append(e)\n",
    "    return newL\n",
    "            \n",
    "        \n",
    "                \n",
    "dictionary = wordDictionary(\"http://slazebni.cs.illinois.edu/fall15/assignment2/wordlist.txt\")\n",
    "print dictionary.dictionary"
   ]
  },
  {
   "cell_type": "code",
   "execution_count": 47,
   "metadata": {
    "collapsed": false
   },
   "outputs": [
    {
     "name": "stdout",
     "output_type": "stream",
     "text": [
      "{1: ['A', 'N', 'O', 'P', 'Q', 'S', 'Y'], 2: ['A', 'B', 'C', 'D', 'F', 'H', 'I', 'L', 'M', 'N', 'O', 'R', 'S', 'W'], 3: ['A', 'E', 'L', 'R', 'T'], 4: ['A', 'M', 'S', 'W'], 5: ['O', 'A'], 6: ['H', 'K', 'A', 'E', 'M', 'O', 'W', 'Y', 'N', 'T', 'F', 'P', 'Z'], 7: ['E', 'D'], 8: ['R', 'A', 'Y', 'I', 'E', 'O'], 9: ['E', 'W']}\n",
      "{'emotion': [4, 5, 7], 'body': [3, 8, 9], 'adverb': [1, 5, 9], 'adjective': [2, 3, 9], 'verb': [7, 8, 9], 'interjection': [4, 5, 6]}\n"
     ]
    }
   ],
   "source": [
    "class LetterCSP:\n",
    "    def __init__(self, url, dictionary):\n",
    "        data = urllib2.urlopen(url)\n",
    "        i = 0\n",
    "        self.valTracker = {}\n",
    "        self.constraints = {}\n",
    "        for line in data:\n",
    "            variableList = []\n",
    "            if i == 0:\n",
    "                self.size = int(line)\n",
    "                for j in range(1,self.size+1):\n",
    "                    self.valTracker[j] = []\n",
    "            else:\n",
    "                labels = line.split(\":\")\n",
    "                category = labels[0]\n",
    "                self.constraints[category] = []\n",
    "                entries = labels[1].split(\",\")\n",
    "                entries[-1] = entries[-1].replace(\"\\r\\n\",\"\")\n",
    "                position = 0\n",
    "                for entry in entries:\n",
    "                    #constrain possible values\n",
    "                    key = int(entry)\n",
    "                    if not self.valTracker[key]: \n",
    "                        self.valTracker[key] = dictionary.getLetters(category, position)\n",
    "                    else:\n",
    "                        self.valTracker[key] = intersection(self.valTracker[key], dictionary.getLetters(category, position))\n",
    "                    position += 1\n",
    "                    \n",
    "                    variableList.append(key)\n",
    "                    \n",
    "                    self.constraints[category].append(int(entry))\n",
    "                    \n",
    "#                 #list contraints\n",
    "#                 j = 0 #variable counter\n",
    "#                 for variable in variableList:\n",
    "#                     k = 0\n",
    "#                     for otherVariable in variableList:\n",
    "#                         if variable != otherVariable:\n",
    "#                             '''\n",
    "#                             Say variable B constrains variable A\n",
    "#                             (B, category of A and B, A's position in word, B's position in word)\n",
    "#                             '''\n",
    "#                             self.constraints[variable].append((otherVariable, category, j, k))\n",
    "#                         k += 1\n",
    "#                     j += 1\n",
    "            i += 1\n",
    "        \n",
    "\n",
    "CSP = LetterCSP(\"http://slazebni.cs.illinois.edu/fall15/assignment2/puzzle1.txt\", dictionary)\n",
    "print CSP.valTracker\n",
    "print CSP.constraints"
   ]
  },
  {
   "cell_type": "code",
   "execution_count": 50,
   "metadata": {
    "collapsed": false
   },
   "outputs": [
    {
     "name": "stdout",
     "output_type": "stream",
     "text": [
      "({1: 'N', 2: 'N', 3: 'E', 4: 'M', 5: 'A', 6: 'N', 7: 'D', 8: 'Y', 9: 'E'}, {1: 'N', 2: 'N', 3: 'E', 4: 'S', 5: 'A', 6: 'Y', 7: 'D', 8: 'Y', 9: 'E'}, {1: 'N', 2: 'W', 3: 'E', 4: 'M', 5: 'A', 6: 'N', 7: 'D', 8: 'Y', 9: 'E'}, {1: 'N', 2: 'W', 3: 'E', 4: 'S', 5: 'A', 6: 'Y', 7: 'D', 8: 'Y', 9: 'E'})\n"
     ]
    }
   ],
   "source": [
    "class CSPSolver:\n",
    "    def __init__(self, csp, dictionary):\n",
    "        self.csp = csp\n",
    "        self.dictionary = dictionary\n",
    "        \n",
    "    def backtrackSearch(self):\n",
    "        assignment = {}\n",
    "        for i in range(1, self.csp.size+1):\n",
    "            assignment[i] = None\n",
    "        valTracker = self.csp.valTracker\n",
    "        return self.recursiveBacktrack(assignment, valTracker)\n",
    "    \n",
    "    def recursiveBacktrack(self, assignment, valTracker):\n",
    "        if self.isComplete(assignment):\n",
    "            return (assignment.copy(),)\n",
    "        \n",
    "        solutions = ()\n",
    "        key = self.pickVariable(assignment, valTracker)\n",
    "        values = self.orderValues(valTracker[key])\n",
    "        for value in values:\n",
    "            if self.checkConsistency(key, value, assignment, valTracker):\n",
    "                assignment[key] = value\n",
    "                result = self.recursiveBacktrack(assignment, valTracker)\n",
    "                if result != None:\n",
    "                    solutions = solutions + result\n",
    "                assignment[key] = None\n",
    "        if solutions == ():\n",
    "            return None\n",
    "        else:\n",
    "            return solutions\n",
    "                    \n",
    "    def pickVariable(self, assignment, valTracker):\n",
    "        for key in valTracker:\n",
    "            if assignment[key] == None:\n",
    "                return key\n",
    "    \n",
    "    def isComplete(self, assignment):\n",
    "        for key in assignment:\n",
    "            if assignment[key] == None:\n",
    "                return False\n",
    "        return True\n",
    "        \n",
    "    def orderValues(self, List):\n",
    "        return List[:]\n",
    "    \n",
    "    def checkConsistency(self, key, value, assignment, valTracker): #check other two letters for constraints\n",
    "        validvalues = valTracker[key]\n",
    "        for category in self.csp.constraints:\n",
    "            values = validvalues\n",
    "            categoryValues = self.csp.constraints[category]\n",
    "            if key == categoryValues[0]:\n",
    "                values = self.dictionary.getLetters(category, 0, (None, assignment[categoryValues[1]], assignment[categoryValues[2]]))\n",
    "            elif key == categoryValues[1]:\n",
    "                values = self.dictionary.getLetters(category, 1, (assignment[categoryValues[0]], None, assignment[categoryValues[2]]))\n",
    "            elif key == categoryValues[2]:\n",
    "                values = self.dictionary.getLetters(category, 2, (assignment[categoryValues[0]] ,assignment[categoryValues[1]], None))\n",
    "            \n",
    "            validvalues = intersection(validvalues, values)\n",
    "\n",
    "        if value in validvalues:\n",
    "            return True\n",
    "        else:\n",
    "            return False\n",
    "\n",
    "#valTracker = {1: [\"A\", \"B\", \"C\"], 2 : [\"D\", \"E\", \"F\"]}\n",
    "#print backtrackSearch(valTracker)\n",
    "letterSolver = CSPSolver(CSP, dictionary)\n",
    "solution = letterSolver.backtrackSearch()\n",
    "print solution"
   ]
  },
  {
   "cell_type": "code",
   "execution_count": null,
   "metadata": {
    "collapsed": true
   },
   "outputs": [],
   "source": []
  }
 ],
 "metadata": {
  "kernelspec": {
   "display_name": "Python 2",
   "language": "python",
   "name": "python2"
  },
  "language_info": {
   "codemirror_mode": {
    "name": "ipython",
    "version": 2
   },
   "file_extension": ".py",
   "mimetype": "text/x-python",
   "name": "python",
   "nbconvert_exporter": "python",
   "pygments_lexer": "ipython2",
   "version": "2.7.6"
  }
 },
 "nbformat": 4,
 "nbformat_minor": 0
}
