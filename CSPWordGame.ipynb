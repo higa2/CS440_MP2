{
 "cells": [
  {
   "cell_type": "code",
   "execution_count": null,
   "metadata": {
    "collapsed": false
   },
   "outputs": [],
   "source": [
    "import urllib2\n",
    "from CSPWordGame import *"
   ]
  },
  {
   "cell_type": "code",
   "execution_count": null,
   "metadata": {
    "collapsed": false
   },
   "outputs": [],
   "source": [
    "dictionary = wordDictionary(\"http://slazebni.cs.illinois.edu/fall15/assignment2/wordlist.txt\")"
   ]
  },
  {
   "cell_type": "code",
   "execution_count": null,
   "metadata": {
    "collapsed": false
   },
   "outputs": [],
   "source": [
    "class CSPSolver:\n",
    "    def __init__(self, csp, dictionary):\n",
    "        self.csp = csp\n",
    "        self.dictionary = dictionary\n",
    "        \n",
    "    def backtrackSearch(self):\n",
    "        assignment = {}\n",
    "        for i in range(1, self.csp.size+1):\n",
    "            assignment[i] = None\n",
    "        valTracker = self.csp.valTracker\n",
    "        return self.recursiveBacktrack(assignment, valTracker)\n",
    "    \n",
    "    def recursiveBacktrack(self, assignment, valTracker):\n",
    "        if self.isComplete(assignment):\n",
    "            self.printSolutions((assignment,))\n",
    "            return (assignment.copy(),)\n",
    "        \n",
    "        solutions = ()\n",
    "        key = self.pickVariable(assignment, valTracker)\n",
    "        values = valTracker[key]\n",
    "        for value in values:\n",
    "            if self.checkConsistency(key, value, assignment, valTracker):\n",
    "                print value,\n",
    "                assignment[key] = value\n",
    "                newValTracker = self.forwardChecking(assignment, valTracker)\n",
    "                if newValTracker != None:\n",
    "                    result = self.recursiveBacktrack(assignment, newValTracker)\n",
    "                    if result != None:\n",
    "                        solutions = solutions + result\n",
    "                \n",
    "                else:\n",
    "                    print ''\n",
    "                    for i in range(key-1):\n",
    "                        print ' ',\n",
    "                assignment[key] = None\n",
    "        if solutions == ():\n",
    "            return None\n",
    "        else:\n",
    "            return solutions\n",
    "        \n",
    "    def pickVariable(self, assignment, valTracker):\n",
    "        for key in valTracker:\n",
    "            if assignment[key] == None:\n",
    "                return key\n",
    "    \n",
    "    def isComplete(self, assignment):\n",
    "        for key in assignment:\n",
    "            if assignment[key] == None:\n",
    "                return False\n",
    "        return True\n",
    "    \n",
    "    def lengthofDictionary(dictionary):\n",
    "        length = 0\n",
    "        for key in dictionary:\n",
    "            length += len(dictionary[key])\n",
    "    \n",
    "    def checkConsistency(self, key, value, assignment, valTracker): #check other two letters for constraints\n",
    "        validvalues = valTracker[key]\n",
    "        for category in self.csp.constraints:\n",
    "            values = validvalues\n",
    "            categoryValues = self.csp.constraints[category]\n",
    "            if key == categoryValues[0]:\n",
    "                values = self.dictionary.getLetters(category, 0, (None, assignment[categoryValues[1]], assignment[categoryValues[2]]))\n",
    "            elif key == categoryValues[1]:\n",
    "                values = self.dictionary.getLetters(category, 1, (assignment[categoryValues[0]], None, assignment[categoryValues[2]]))\n",
    "            elif key == categoryValues[2]:\n",
    "                values = self.dictionary.getLetters(category, 2, (assignment[categoryValues[0]] ,assignment[categoryValues[1]], None))\n",
    "            \n",
    "            validvalues = intersection(validvalues, values)\n",
    "\n",
    "        if value in validvalues:\n",
    "            return True\n",
    "        else:\n",
    "            return False\n",
    "        \n",
    "    def printSolutions(self, solutions):\n",
    "        for solution in solutions:\n",
    "            print '( Solution found:',\n",
    "            for i in range(1, self.csp.size+1):\n",
    "                print solution[i],\n",
    "            print ')'\n",
    "            \n",
    "    def forwardChecking(self, assignment, valTracker):\n",
    "        newValTracker = {}\n",
    "        for key in valTracker:\n",
    "            if assignment[key] != None:\n",
    "                newValTracker[key] = [assignment[key]]\n",
    "            else:\n",
    "                validvalues = valTracker[key]\n",
    "                for category in self.csp.constraints:\n",
    "                    values = validvalues\n",
    "                    categoryValues = self.csp.constraints[category]\n",
    "                    if key == categoryValues[0]:\n",
    "                        values = self.dictionary.getLetters(category, 0, (None, assignment[categoryValues[1]], assignment[categoryValues[2]]))\n",
    "                    elif key == categoryValues[1]:\n",
    "                        values = self.dictionary.getLetters(category, 1, (assignment[categoryValues[0]], None, assignment[categoryValues[2]]))\n",
    "                    elif key == categoryValues[2]:\n",
    "                        values = self.dictionary.getLetters(category, 2, (assignment[categoryValues[0]] ,assignment[categoryValues[1]], None))\n",
    "            \n",
    "                    validvalues = intersection(validvalues, values)\n",
    "                if not validvalues and assignment[key] == None:\n",
    "                    return None\n",
    "                newValTracker[key] = validvalues\n",
    "        return newValTracker \n",
    "    \n",
    "CSP = LetterCSP(\"http://slazebni.cs.illinois.edu/fall15/assignment2/puzzle1.txt\", dictionary)\n",
    "letterSolver = CSPSolver(CSP, dictionary)\n",
    "print letterSolver.csp.valTracker\n",
    "print letterSolver.forwardChecking({1: 'N', 2:'N', 3:'E', 4: 'M', 5:None, 6:None, 7:None, 8:None, 9:None}, letterSolver.csp.valTracker)\n"
   ]
  },
  {
   "cell_type": "code",
   "execution_count": null,
   "metadata": {
    "collapsed": false
   },
   "outputs": [],
   "source": [
    "CSP = LetterCSP(\"http://slazebni.cs.illinois.edu/fall15/assignment2/puzzle1.txt\", dictionary)\n",
    "letterSolver = CSPSolver(CSP, dictionary)\n",
    "solutions = letterSolver.backtrackSearch()\n",
    "letterSolver.printSolutions(solutions)"
   ]
  },
  {
   "cell_type": "code",
   "execution_count": null,
   "metadata": {
    "collapsed": false
   },
   "outputs": [],
   "source": [
    "CSP = LetterCSP(\"http://slazebni.cs.illinois.edu/fall15/assignment2/puzzle2.txt\", dictionary)\n",
    "letterSolver = CSPSolver(CSP, dictionary)\n",
    "solutions = letterSolver.backtrackSearch()\n",
    "letterSolver.printSolutions(solutions)"
   ]
  },
  {
   "cell_type": "code",
   "execution_count": null,
   "metadata": {
    "collapsed": false
   },
   "outputs": [],
   "source": [
    "CSP = LetterCSP(\"http://slazebni.cs.illinois.edu/fall15/assignment2/puzzle3.txt\", dictionary)\n",
    "letterSolver = CSPSolver(CSP, dictionary)\n",
    "solutions = letterSolver.backtrackSearch()\n",
    "letterSolver.printSolutions(solutions)"
   ]
  },
  {
   "cell_type": "code",
   "execution_count": null,
   "metadata": {
    "collapsed": false
   },
   "outputs": [],
   "source": [
    "CSP = LetterCSP(\"http://slazebni.cs.illinois.edu/fall15/assignment2/puzzle4.txt\", dictionary)\n",
    "letterSolver = CSPSolver(CSP, dictionary)\n",
    "solutions = letterSolver.backtrackSearch()\n",
    "letterSolver.printSolutions(solutions)"
   ]
  },
  {
   "cell_type": "code",
   "execution_count": null,
   "metadata": {
    "collapsed": false
   },
   "outputs": [],
   "source": [
    "CSP = LetterCSP(\"http://slazebni.cs.illinois.edu/fall15/assignment2/puzzle5.txt\", dictionary)\n",
    "letterSolver = CSPSolver(CSP, dictionary)\n",
    "solutions = letterSolver.backtrackSearch()\n",
    "letterSolver.printSolutions(solutions)"
   ]
  },
  {
   "cell_type": "code",
   "execution_count": null,
   "metadata": {
    "collapsed": true
   },
   "outputs": [],
   "source": []
  }
 ],
 "metadata": {
  "kernelspec": {
   "display_name": "Python 2",
   "language": "python",
   "name": "python2"
  },
  "language_info": {
   "codemirror_mode": {
    "name": "ipython",
    "version": 2
   },
   "file_extension": ".py",
   "mimetype": "text/x-python",
   "name": "python",
   "nbconvert_exporter": "python",
   "pygments_lexer": "ipython2",
   "version": "2.7.6"
  }
 },
 "nbformat": 4,
 "nbformat_minor": 0
}
