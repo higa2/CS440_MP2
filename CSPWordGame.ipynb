{
 "cells": [
  {
   "cell_type": "code",
   "execution_count": 1,
   "metadata": {
    "collapsed": true
   },
   "outputs": [],
   "source": [
    "import urllib2"
   ]
  },
  {
   "cell_type": "code",
   "execution_count": 2,
   "metadata": {
    "collapsed": false
   },
   "outputs": [
    {
     "name": "stdout",
     "output_type": "stream",
     "text": [
      "['T', 'D', 'P', 'G']\n",
      "['HAT', 'HIT']\n"
     ]
    }
   ],
   "source": [
    "class wordDictionary:\n",
    "    def __init__(self, url):\n",
    "        #Turn into dictionary of the form (word category, list of words within that category)\n",
    "        data = urllib2.urlopen(url)\n",
    "        self.dictionary = {} \n",
    "        for line in data:\n",
    "            words = line.split(\":\")\n",
    "            category = words[0]\n",
    "            wordList = words[1].split(\", \")\n",
    "            wordList[0] = wordList[0].replace('\\t','')\n",
    "            wordList[-1] = wordList[-1].replace('\\r','').replace('\\n','')\n",
    "            self.dictionary[words[0]] = wordList\n",
    "    \n",
    "    def getLetters(self, category, position, firstLetter = None, secondLetter = None, thirdLetter = None):\n",
    "        letters = []\n",
    "        for word in self.dictionary[category]:\n",
    "            if ((word[0] == firstLetter or firstLetter == None) and (word[1] == secondLetter or secondLetter == None) and \\\n",
    "                (word[2] == thirdLetter or thirdLetter == None)):\n",
    "                newLetter = word[position]\n",
    "                if not newLetter in letters: \n",
    "                    letters.append(newLetter)\n",
    "        return letters\n",
    "            \n",
    "    def getWords(self, category = None, firstLetter = None, secondLetter = None, thirdLetter = None):\n",
    "        words = []\n",
    "        for word in self.dictionary[category]:\n",
    "            if ((word[0] == firstLetter or firstLetter == None) and (word[1] == secondLetter or secondLetter == None) and \\\n",
    "                (word[2] == thirdLetter or thirdLetter == None)):\n",
    "                words.append(word)\n",
    "        return words\n",
    "    \n",
    "def intersection(L1, L2):\n",
    "    newL = []\n",
    "    for e in L1:\n",
    "        if e in L2:\n",
    "            newL.append(e)\n",
    "    return newL\n",
    "            \n",
    "        \n",
    "                \n",
    "dictionary = wordDictionary(\"http://slazebni.cs.illinois.edu/fall15/assignment2/wordlist.txt\")\n",
    "print intersection(dictionary.getLetters(\"noun\", 2, firstLetter = 'H'),dictionary.getLetters(\"noun\", 2, firstLetter = \"L\"))\n",
    "print dictionary.getWords(\"noun\", firstLetter = \"H\", thirdLetter = \"T\")#firstLetter = \"H\")"
   ]
  },
  {
   "cell_type": "code",
   "execution_count": 3,
   "metadata": {
    "collapsed": false
   },
   "outputs": [
    {
     "name": "stdout",
     "output_type": "stream",
     "text": [
      "{1: ['A', 'N', 'O', 'P', 'Q', 'S', 'Y'], 2: ['A', 'B', 'C', 'D', 'F', 'H', 'I', 'L', 'M', 'N', 'O', 'R', 'S', 'W'], 3: ['A', 'E', 'L', 'R', 'T'], 4: ['A', 'M', 'S', 'W'], 5: ['O', 'A'], 6: ['H', 'K', 'A', 'E', 'M', 'O', 'W', 'Y', 'N', 'T', 'F', 'P', 'Z'], 7: ['E', 'D'], 8: ['R', 'A', 'Y', 'I', 'E', 'O'], 9: ['E', 'W']}\n"
     ]
    }
   ],
   "source": [
    "class LetterCSP:\n",
    "    def __init__(self, url, dictionary):\n",
    "        data = urllib2.urlopen(url)\n",
    "        i = 0\n",
    "        self.valTracker = {}\n",
    "        for line in data:\n",
    "            if i == 0:\n",
    "                self.size = int(line)\n",
    "                for j in range(1,self.size+1):\n",
    "                    self.valTracker[j] = []\n",
    "            else:\n",
    "                labels = line.split(\":\")\n",
    "                category = labels[0]\n",
    "                entries = labels[1].split(\",\")\n",
    "                entries[-1] = entries[-1].replace(\"\\r\\n\",\"\")\n",
    "                position = 0\n",
    "                for entry in entries:\n",
    "                    key = int(entry)\n",
    "                    if not self.valTracker[key]: \n",
    "                        self.valTracker[key] = dictionary.getLetters(category, position)\n",
    "                    else:\n",
    "                        self.valTracker[key] = intersection(self.valTracker[key], dictionary.getLetters(category, position))\n",
    "                    position += 1\n",
    "                    \n",
    "                #list contraints\n",
    "            i += 1\n",
    "            \n",
    "        \n",
    "\n",
    "CSP = LetterCSP(\"http://slazebni.cs.illinois.edu/fall15/assignment2/puzzle1.txt\", dictionary)\n",
    "print CSP.valTracker"
   ]
  },
  {
   "cell_type": "code",
   "execution_count": 4,
   "metadata": {
    "collapsed": false
   },
   "outputs": [
    {
     "name": "stdout",
     "output_type": "stream",
     "text": [
      "(['A', 'D'], ['A', 'E'], ['A', 'F'])\n",
      "(['B', 'D'], ['B', 'E'], ['B', 'F'])\n",
      "(['C', 'D'], ['C', 'E'], ['C', 'F'])\n",
      "(['A', 'D'], ['A', 'E'], ['A', 'F'], ['B', 'D'], ['B', 'E'], ['B', 'F'], ['C', 'D'], ['C', 'E'], ['C', 'F'])\n",
      "(['A', 'D'], ['A', 'E'], ['A', 'F'], ['B', 'D'], ['B', 'E'], ['B', 'F'], ['C', 'D'], ['C', 'E'], ['C', 'F'])\n"
     ]
    }
   ],
   "source": [
    "class CSPSolver:\n",
    "    def __init__(self, csp):\n",
    "        self.csp = csp\n",
    "        \n",
    "    def backtrackSearch(self):\n",
    "        assignment = [None for i in range(self.csp.size)]\n",
    "        valTracker = self.csp.valTracker\n",
    "        return self.recursiveBacktrack(assignment, valTracker)\n",
    "    \n",
    "    def recursiveBacktrack(self, assignment, valTracker):\n",
    "        if self.isComplete(assignment):\n",
    "            return (assignment[:],)\n",
    "        \n",
    "        solutions = ()\n",
    "        key = self.pickVariable(assignment, valTracker)\n",
    "        values = self.orderValues(valTracker[key])\n",
    "        #newValTracker = valTracker.copy()\n",
    "        for value in values:\n",
    "            if self.checkConsistency(key, value, valTracker):\n",
    "                assignment[key-1] = value\n",
    "                result = self.recursiveBacktrack(assignment, valTracker)\n",
    "                if result != None:\n",
    "                    solutions = solutions + result\n",
    "                assignment[key-1] = None\n",
    "        if solutions == ():\n",
    "            return None\n",
    "        else:\n",
    "            return solutions\n",
    "                    \n",
    "    def pickVariable(self, assignment, valTracker):\n",
    "        minNumConstraint = None\n",
    "        minConstrainedVariable = None\n",
    "        for key in valTracker:\n",
    "            if assignment[key-1] == None:\n",
    "                numConstraint = len(valTracker[key])\n",
    "                if minNumConstraint == None:\n",
    "                    minNumConstraint = numConstraint\n",
    "                    minConstrainedVariable = key\n",
    "                if numConstraint < minNumConstraint:\n",
    "                    minNumConstraint = numConstraint\n",
    "                    minConstrainedVariable = key\n",
    "        return minConstrainedVariable\n",
    "    \n",
    "    def isComplete(self, assignment):\n",
    "        for key in assignment:\n",
    "            if key == None:\n",
    "                return False\n",
    "        return True\n",
    "        \n",
    "    def orderValues(self, List):\n",
    "        return List[:]\n",
    "    \n",
    "    def checkConsistency(self, key, value, valTracker):\n",
    "        return True\n",
    "\n",
    "def backtrackSearch(valTracker):\n",
    "        assignment = [None for i in range(len(valTracker))]\n",
    "        return recursiveBacktrack(assignment, valTracker)    \n",
    "    \n",
    "def recursiveBacktrack(assignment, valTracker):\n",
    "        if isComplete(assignment):\n",
    "            #print assignment\n",
    "            return (assignment[:],)\n",
    "        \n",
    "        solutions = ()\n",
    "        key = pickVariable(assignment, valTracker)\n",
    "        values = orderValues(valTracker[key])\n",
    "        #newValTracker = valTracker.copy()\n",
    "        for value in values:\n",
    "            if checkConsistency(key, value, valTracker):\n",
    "                assignment[key-1] = value\n",
    "                result = recursiveBacktrack(assignment, valTracker)\n",
    "                #print result\n",
    "                if result != None:\n",
    "                    solutions = solutions + result\n",
    "                assignment[key-1] = None\n",
    "        print solutions\n",
    "        if solutions == ():\n",
    "            return None\n",
    "        else:\n",
    "            return solutions\n",
    "\n",
    "def pickVariable(assignment, valTracker):\n",
    "        minNumConstraint = None\n",
    "        minConstrainedVariable = None\n",
    "        for key in valTracker:\n",
    "            if assignment[key-1] == None:\n",
    "                numConstraint = len(valTracker[key])\n",
    "                if minNumConstraint == None:\n",
    "                    minNumConstraint = numConstraint\n",
    "                    minConstrainedVariable = key\n",
    "                if numConstraint < minNumConstraint:\n",
    "                    minNumConstraint = numConstraint\n",
    "                    minConstrainedVariable = key\n",
    "        return minConstrainedVariable\n",
    "    \n",
    "def isComplete(assignment):\n",
    "    for key in assignment:\n",
    "        if key == None:\n",
    "            return False\n",
    "    return True\n",
    "        \n",
    "def orderValues(List):\n",
    "    return List[:]\n",
    "    \n",
    "def checkConsistency(key, value, valTracker):\n",
    "    return True\n",
    "\n",
    "valTracker = {1: [\"A\", \"B\", \"C\"], 2 : [\"D\", \"E\", \"F\"]}\n",
    "print backtrackSearch(valTracker)\n",
    "#letterSolver = CSPSolver(CSP)\n",
    "#solution = letterSolver.backtrackSearch()"
   ]
  },
  {
   "cell_type": "code",
   "execution_count": null,
   "metadata": {
    "collapsed": true
   },
   "outputs": [],
   "source": []
  }
 ],
 "metadata": {
  "kernelspec": {
   "display_name": "Python 2",
   "language": "python",
   "name": "python2"
  },
  "language_info": {
   "codemirror_mode": {
    "name": "ipython",
    "version": 2
   },
   "file_extension": ".py",
   "mimetype": "text/x-python",
   "name": "python",
   "nbconvert_exporter": "python",
   "pygments_lexer": "ipython2",
   "version": "2.7.6"
  }
 },
 "nbformat": 4,
 "nbformat_minor": 0
}
