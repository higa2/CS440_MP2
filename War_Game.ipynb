{
 "cells": [
  {
   "cell_type": "code",
   "execution_count": 205,
   "metadata": {
    "collapsed": true
   },
   "outputs": [],
   "source": [
    "import time"
   ]
  },
  {
   "cell_type": "code",
   "execution_count": 206,
   "metadata": {
    "collapsed": false
   },
   "outputs": [],
   "source": [
    "class board:\n",
    "    def __init__(self, txtfile):\n",
    "        '''\n",
    "        Initializes useful fields to describe the game board layout.\n",
    "        INPUTS: txt file representing the game board layout\n",
    "        OUTPUTS: none\n",
    "        RETURNS: none\n",
    "        SIDE EFFECTS: intializes useful fields to describe the game board layout\n",
    "        '''\n",
    "        self.sqDim = 0\n",
    "        self.ptBoard = []\n",
    "        with open(txtfile, 'r') as f:\n",
    "            while True:\n",
    "                file_line = f.readline()\n",
    "                if not file_line: \n",
    "                    break\n",
    "                else:\n",
    "                    self.sqDim += 1\n",
    "                    row = file_line.replace(\"\\r\\n\", '').split(\"\\t\")\n",
    "                    for element in row:\n",
    "                        self.ptBoard.append(int(element)) \n",
    "        self.size = self.sqDim**2\n",
    "        self.maxPlayerTaken = []\n",
    "        self.minPlayerTaken = []\n",
    "        self.openPositions = [i for i in range(self.size)]\n",
    "        \n",
    "    def printBoard(self):\n",
    "        '''\n",
    "        Prints the current state of the board including open spaces and spaces conquered by each player\n",
    "        INPUTS: none\n",
    "        OUTPUTS: outputs the layout of the board and key positions that the player has taken.\n",
    "        RETURNS: none\n",
    "        SIDE EFFECTS: none\n",
    "        '''\n",
    "        for i in range(self.size):\n",
    "            if i % 6 == 0:\n",
    "                print ' '\n",
    "            if i in self.maxPlayerTaken:\n",
    "                print '[A]',\n",
    "            elif i in self.minPlayerTaken:\n",
    "                print '[B]',\n",
    "            else:\n",
    "                print '[ ]',\n",
    "        print ' '"
   ]
  },
  {
   "cell_type": "code",
   "execution_count": 207,
   "metadata": {
    "collapsed": false
   },
   "outputs": [],
   "source": [
    "class warGame:\n",
    "    def __init__(self, board):\n",
    "        '''\n",
    "        Initializes important statistics for the game\n",
    "        INPUTS: board object for the game\n",
    "        OUTPUTS: none\n",
    "        RETURNS: none\n",
    "        SIDE EFFECTS: Initializes statistics for the game\n",
    "        '''\n",
    "        self.board = board\n",
    "        self.maxScore = 0\n",
    "        self.minScore = 0\n",
    "        self.totNodesExpandedMax = 0\n",
    "        self.totNodesExpandedMin = 0\n",
    "        self.totTimeMax = 0\n",
    "        self.totTimeMin = 0\n",
    "        self.totMovesMax = 0\n",
    "        self.totMovesMin = 0\n",
    "        \n",
    "    def utility(self):\n",
    "        '''\n",
    "        Heuristic evaluation function that returns the current score based on positions that the current players have\n",
    "        captured. The function is calculated by taking the max's score - min's score.\n",
    "        INPUTS: none\n",
    "        OUTPUTS: none\n",
    "        RETURNS: current score of the player\n",
    "        SIDE EFFECTS: none\n",
    "        '''\n",
    "        maxScore = 0\n",
    "        minScore = 0\n",
    "        for pos in self.board.maxPlayerTaken:\n",
    "            maxScore += self.board.ptBoard[pos]\n",
    "        for pos in self.board.minPlayerTaken:\n",
    "            minScore += self.board.ptBoard[pos]\n",
    "        return maxScore - minScore\n",
    "            \n",
    "    def calculateScore(self):\n",
    "        '''\n",
    "        Calculates score for each player based on positions the player's pieces occupy.\n",
    "        INPUTS: None\n",
    "        OUTPUTS: None\n",
    "        RETURNS: None\n",
    "        SIDE EFFECTS: Changes the score field in the warGame object of each player\n",
    "        '''\n",
    "        self.maxScore = 0\n",
    "        self.minScore = 0\n",
    "        for pos in self.board.maxPlayerTaken:\n",
    "            self.maxScore += self.board.ptBoard[pos]\n",
    "        for pos in self.board.minPlayerTaken:\n",
    "            self.minScore += self.board.ptBoard[pos]\n",
    "    \n",
    "    def isComplete(self):\n",
    "        '''\n",
    "        Checks if the game is complete by check if there are open positions on the board.\n",
    "        INPUTS: None\n",
    "        OUTPUTS: None\n",
    "        RETURN: returns true if and only if there are no open positions on the board and the game is complete.\n",
    "        SIDE EFFECTS: None\n",
    "        '''\n",
    "        #if there are no open spaces\n",
    "        if not self.board.openPositions:\n",
    "            return True\n",
    "        else:\n",
    "            return False\n",
    "        \n",
    "    def runGame(self, strategy1 = 0, strategy2 = 0):\n",
    "        '''\n",
    "        Runs game\n",
    "        INPUTS: strategy1 is the strategy of max, strategy2 is the strategy of min.\n",
    "        OUTPUTS: None \n",
    "        RETURN: None\n",
    "        SIDE EFFECTS: Changes the layout of the board object that was passed in. It also changes the score.\n",
    "        '''\n",
    "        #start with initial state\n",
    "        player = 'max'\n",
    "    \n",
    "        #while the game is not complete\n",
    "        while not self.isComplete():\n",
    "            #max makes move with minimax\n",
    "            if player == 'max' and strategy1 == 0:\n",
    "                maxSeen = None\n",
    "                move = None\n",
    "                start = time.time()\n",
    "                for openSpace in self.board.openPositions:\n",
    "                    utility, nodes = self.minimax(openSpace, 'min', 1)\n",
    "                    if maxSeen == None:\n",
    "                        maxSeen = utility\n",
    "                        move = openSpace\n",
    "                    elif utility > maxSeen:\n",
    "                        maxSeen = utility\n",
    "                        move = openSpace\n",
    "                    self.totNodesExpandedMax += nodes\n",
    "                self.makeMove(move, player)\n",
    "                end = time.time()\n",
    "                self.totTimeMax += (end-start)\n",
    "                self.totMovesMax += 1\n",
    "                player = 'min'\n",
    "        \n",
    "            #min makes move with minimax\n",
    "            elif player == 'min' and strategy2 == 0:\n",
    "                minSeen = None\n",
    "                move = None\n",
    "                start = time.time()\n",
    "                for openSpace in self.board.openPositions:\n",
    "                    utility, nodes = self.minimax(openSpace, 'max', 1)\n",
    "                    if minSeen == None:\n",
    "                        minSeen = utility\n",
    "                        move = openSpace\n",
    "                    elif utility < minSeen:\n",
    "                        minSeen = utility\n",
    "                        move = openSpace\n",
    "                    self.totNodesExpandedMin += nodes\n",
    "                self.makeMove(move, player)\n",
    "                end = time.time()\n",
    "                self.totTimeMin += (end-start)\n",
    "                self.totMovesMin += 1\n",
    "                player = 'max'\n",
    "            \n",
    "            #max makes move with alpha-beta search\n",
    "            elif player == 'max' and strategy1 == 1:\n",
    "                alpha = None\n",
    "                beta = None\n",
    "                maxSeen = None\n",
    "                move = None\n",
    "                start = time.time()\n",
    "                for openSpace in self.board.openPositions:\n",
    "                    utility, nodes = self.alphaBetaSearch(openSpace, 'min', 1, alpha, beta)\n",
    "                    if maxSeen == None:\n",
    "                        maxSeen = utility\n",
    "                        move = openSpace\n",
    "                    elif utility > maxSeen:\n",
    "                        maxSeen = utility\n",
    "                        move = openSpace\n",
    "                    self.totNodesExpandedMax += nodes\n",
    "                self.makeMove(move, player)\n",
    "                end = time.time()\n",
    "                self.totTimeMax += (end-start)\n",
    "                self.totMovesMax += 1\n",
    "                player = 'min'\n",
    "                \n",
    "            #min makes move with alpha-beta search    \n",
    "            else:\n",
    "                alpha = None\n",
    "                beta = None\n",
    "                minSeen = None\n",
    "                move = None\n",
    "                start = time.time()\n",
    "                for openSpace in self.board.openPositions:\n",
    "                    utility, nodes = self.alphaBetaSearch(openSpace, 'max', 1, alpha, beta)\n",
    "                    if minSeen == None:\n",
    "                        minSeen = utility\n",
    "                        move = openSpace\n",
    "                    elif utility < minSeen:\n",
    "                        minSeen = utility\n",
    "                        move = openSpace\n",
    "                    self.totNodesExpandedMin += nodes\n",
    "                self.makeMove(move, player)\n",
    "                end = time.time()\n",
    "                self.totTimeMin += (end-start)\n",
    "                self.totMovesMin += 1\n",
    "                player = 'max'\n",
    "                \n",
    "        self.calculateScore()\n",
    "\n",
    "    def minimax(self, pos, player, depth):\n",
    "        '''\n",
    "        Implements minimax search algorithm\n",
    "        INPUTS: Potential next position to place piece, the current player, and the current depth in minimax\n",
    "        OUTPUTS: None\n",
    "        RETURNS: The minimum utility move if the current player in min, or the maximum utility move if the current player is \n",
    "        max. Also, returns the number of nodes expanded during a minimax search.\n",
    "        '''\n",
    "        num_nodes = 0\n",
    "        maxDepth = 4\n",
    "        conqueredPositions = self.makeMove(pos, player)\n",
    "        if depth >= maxDepth or self.isComplete():\n",
    "            self.reverseMove(pos, player, conqueredPositions)\n",
    "            return self.utility(), 1\n",
    "        \n",
    "        #Do minimax for max player\n",
    "        if player == 'max':\n",
    "            maxSeen = None\n",
    "            for openSpace in self.board.openPositions:\n",
    "                utility, nodes = self.minimax(openSpace, 'min', depth + 1)\n",
    "                if maxSeen == None:\n",
    "                    maxSeen = utility\n",
    "                    move = openSpace\n",
    "                elif utility > maxSeen:\n",
    "                    maxSeen = utility\n",
    "                    move = openSpace\n",
    "                num_nodes += nodes\n",
    "            self.reverseMove(pos, player, conqueredPositions)\n",
    "            return utility, num_nodes\n",
    "        \n",
    "        #Do minimax for min player\n",
    "        else:\n",
    "            minSeen = None\n",
    "            for openSpace in self.board.openPositions:\n",
    "                utility, nodes = self.minimax(openSpace, 'max', depth + 1)\n",
    "                if minSeen == None:\n",
    "                    minSeen = utility\n",
    "                    move = openSpace\n",
    "                elif utility < minSeen:\n",
    "                    minSeen = utility\n",
    "                    move = openSpace\n",
    "                num_nodes += nodes\n",
    "            self.reverseMove(pos, player, conqueredPositions)\n",
    "            return utility, num_nodes\n",
    "        \n",
    "    def alphaBetaSearch(self, pos, player, depth, alpha = None, beta = None):\n",
    "        '''\n",
    "        Runs the alpha beta searching algorithms.\n",
    "        INPUTS: potential positions of the player, the current player, the current depth of the algorithms, alpha\n",
    "        (the best value seen by max so far), beta (the best value seen by min so far)\n",
    "        OUTPUTS: none\n",
    "        RETURNS: The minimum utility move if the current player in min, or the maximum utility move if the current player is max\n",
    "\n",
    "        '''\n",
    "        num_nodes = 0\n",
    "        maxDepth = 5\n",
    "        conqueredPositions = self.makeMove(pos, player)\n",
    "        if depth >= maxDepth or self.isComplete():\n",
    "            self.reverseMove(pos, player, conqueredPositions)\n",
    "            return self.utility(), 1\n",
    "        \n",
    "        if player == 'max':\n",
    "            maxSeen = None\n",
    "            for openSpace in self.board.openPositions:\n",
    "                utility, nodes = self.alphaBetaSearch(openSpace, 'min', depth + 1, alpha, beta)\n",
    "                num_nodes += nodes\n",
    "                if beta == None:\n",
    "                    beta = utility\n",
    "                elif utility >= beta:\n",
    "                    self.reverseMove(pos, player, conqueredPositions)\n",
    "                    return utility, num_nodes\n",
    "                if maxSeen == None:\n",
    "                    maxSeen = utility\n",
    "                    alpha = utility\n",
    "                    move = openSpace\n",
    "                elif utility > maxSeen:\n",
    "                    maxSeen = utility\n",
    "                    alpha = utility\n",
    "                    move = openSpace\n",
    "            self.reverseMove(pos, player, conqueredPositions)\n",
    "            return utility, num_nodes\n",
    "        else:\n",
    "            minSeen = None\n",
    "            for openSpace in self.board.openPositions:\n",
    "                utility, nodes = self.alphaBetaSearch(openSpace, 'max', depth + 1, alpha, beta)\n",
    "                num_nodes += nodes\n",
    "                if alpha == None:\n",
    "                    alpha = utility\n",
    "                elif utility <= alpha:\n",
    "                    self.reverseMove(pos, player, conqueredPositions)\n",
    "                    return utility, num_nodes\n",
    "                if minSeen == None:\n",
    "                    minSeen = utility\n",
    "                    beta = utility\n",
    "                    move = openSpace\n",
    "                elif utility < minSeen:\n",
    "                    minSeen = utility\n",
    "                    beta = utility\n",
    "                    move = openSpace\n",
    "            self.reverseMove(pos, player, conqueredPositions)\n",
    "            return utility, num_nodes\n",
    "        \n",
    "    def makeMove(self, move, player):\n",
    "        '''\n",
    "        Changes board by making move.\n",
    "        INPUTS: position you want to make the move, player that will make the move.\n",
    "        OUTPUTS: none\n",
    "        RETURNS: returns the positions you conquered last.\n",
    "        SIDE EFFECTS: Makes changes to the board corresponding to the move you made.\n",
    "        '''\n",
    "        positionsConquered = []\n",
    "        \n",
    "        #remove move from list of open positions\n",
    "        if move in self.board.openPositions:\n",
    "            idx = self.board.openPositions.index(move)\n",
    "            del self.board.openPositions[idx]\n",
    "        else:\n",
    "            print \"Invalid Move\"\n",
    "            return\n",
    "        \n",
    "        surroundingMax = self.checkForSurroundingMax(move)\n",
    "        surroundingMin = self.checkForSurroundingMin(move)\n",
    "        \n",
    "        if player == 'max':\n",
    "            self.board.maxPlayerTaken.append(move)\n",
    "            \n",
    "            #Blitz: Conquer min players piece\n",
    "            if len(surroundingMax) != 0:\n",
    "                for pos in surroundingMin:\n",
    "                    idx = self.board.minPlayerTaken.index(pos)\n",
    "                    del self.board.minPlayerTaken[idx]\n",
    "                    self.board.maxPlayerTaken.append(pos)\n",
    "                    positionsConquered.append(pos)\n",
    "                \n",
    "        elif player == 'min':\n",
    "            self.board.minPlayerTaken.append(move)\n",
    "            \n",
    "            #Blitz: Conquer max players piece\n",
    "            if len(surroundingMin) != 0:\n",
    "                for pos in surroundingMax:\n",
    "                    idx = self.board.maxPlayerTaken.index(pos)\n",
    "                    del self.board.maxPlayerTaken[idx]\n",
    "                    self.board.minPlayerTaken.append(pos)\n",
    "                    positionsConquered.append(pos)\n",
    "                    \n",
    "        return positionsConquered\n",
    "                    \n",
    "    def reverseMove(self, pos, player, positionsConquered):\n",
    "        '''\n",
    "        Reverses a move made last.\n",
    "        INPUTS: position of the last move you want to reverse, player that made the last move, positions conquered\n",
    "        in the last move.\n",
    "        OUTPUTS: none\n",
    "        RETURNS: none\n",
    "        SIDE EFFECTS: Reverses changes to the board\n",
    "        '''\n",
    "        if player == 'max':\n",
    "            idx = self.board.maxPlayerTaken.index(pos)\n",
    "            del self.board.maxPlayerTaken[idx]\n",
    "            self.board.openPositions.append(pos)\n",
    "            for tile in positionsConquered:\n",
    "                idx = self.board.maxPlayerTaken.index(tile)\n",
    "                del self.board.maxPlayerTaken[idx]\n",
    "                self.board.minPlayerTaken.append(tile)\n",
    "                \n",
    "        else:\n",
    "            idx = self.board.minPlayerTaken.index(pos)\n",
    "            del self.board.minPlayerTaken[idx]\n",
    "            self.board.openPositions.append(pos)\n",
    "            for tile in positionsConquered:\n",
    "                idx = self.board.minPlayerTaken.index(tile)\n",
    "                del self.board.minPlayerTaken[idx]\n",
    "                self.board.maxPlayerTaken.append(tile)\n",
    "                        \n",
    "    def checkForSurroundingMax(self, pos):\n",
    "        '''\n",
    "        Gets surrounding positions that the max player sits on.\n",
    "        INPUTS: current position\n",
    "        OUTPUTS: none\n",
    "        RETURNS: surrounding positons that max sits on.\n",
    "        SIDE EFFECTS: none\n",
    "        '''\n",
    "        surroundingMax = []\n",
    "        for neighbor in self.getNeighbors(pos):\n",
    "            if neighbor in self.board.maxPlayerTaken:\n",
    "                surroundingMax.append(neighbor)\n",
    "        return surroundingMax\n",
    "        \n",
    "    def checkForSurroundingMin(self, pos):\n",
    "        '''\n",
    "        Gets surrounding positions that min player sits on.\n",
    "        INPUTS: current position\n",
    "        OUTPUTS: none\n",
    "        RETURNS: surrounding positons that min sits on.\n",
    "        SIDE EFFECTS: none\n",
    "        '''\n",
    "        surroundingMin = []\n",
    "        for neighbor in self.getNeighbors(pos):\n",
    "            if neighbor in self.board.minPlayerTaken:\n",
    "                surroundingMin.append(neighbor)\n",
    "        return surroundingMin\n",
    "            \n",
    "    def getNeighbors(self, pos):\n",
    "        '''\n",
    "        Gets neighboring positons to your current position.\n",
    "        INPUTS: current position\n",
    "        OUTPUTS: none\n",
    "        RETURNS: surrounding positions that max sits on.\n",
    "        SIDE EFFECTS: none\n",
    "        '''\n",
    "        neighbors = []\n",
    "        if pos % 6 != 0:\n",
    "            neighbors.append(pos-1)\n",
    "        if pos / 6 != 0:\n",
    "            neighbors.append(pos-6)\n",
    "        if pos % 6 != 5:\n",
    "            neighbors.append(pos+1)\n",
    "        if pos / 6 != 5:\n",
    "            neighbors.append(pos+6)\n",
    "        return neighbors"
   ]
  },
  {
   "cell_type": "markdown",
   "metadata": {},
   "source": [
    "#Minimax Versus Minimax"
   ]
  },
  {
   "cell_type": "code",
   "execution_count": 208,
   "metadata": {
    "collapsed": false
   },
   "outputs": [
    {
     "name": "stdout",
     "output_type": "stream",
     "text": [
      " \n",
      "[A] [B] [B] [B] [B] [B]  \n",
      "[B] [B] [B] [B] [B] [B]  \n",
      "[A] [B] [A] [A] [A] [A]  \n",
      "[B] [A] [A] [B] [A] [A]  \n",
      "[B] [A] [B] [B] [B] [A]  \n",
      "[A] [A] [A] [B] [B] [B]  \n",
      "Max Score:  15\n",
      "Min Score:  21\n",
      "Average Time Per Move Max: 3.24586047067\n",
      "Average Time Per Move Min: 2.95699369907\n",
      "Average Nodes Expanded Per Move Max: 311372.111111\n",
      "Average Nodes Expanded Per Move Min: 269824.388889\n"
     ]
    }
   ],
   "source": [
    "newboard = board(\"game_boards/Keren.txt\")\n",
    "newWarGame = warGame(newboard)\n",
    "newWarGame.runGame()\n",
    "newWarGame.board.printBoard()\n",
    "print \"Max Score: \", newWarGame.maxScore \n",
    "print \"Min Score: \", newWarGame.minScore\n",
    "print \"Average Time Per Move Max:\", newWarGame.totTimeMax/newWarGame.totMovesMax\n",
    "print \"Average Time Per Move Min:\", newWarGame.totTimeMin/newWarGame.totMovesMin\n",
    "print \"Average Nodes Expanded Per Move Max:\", float(newWarGame.totNodesExpandedMax)/newWarGame.totMovesMax\n",
    "print \"Average Nodes Expanded Per Move Min:\", float(newWarGame.totNodesExpandedMin)/newWarGame.totMovesMin"
   ]
  },
  {
   "cell_type": "code",
   "execution_count": 209,
   "metadata": {
    "collapsed": false
   },
   "outputs": [
    {
     "name": "stdout",
     "output_type": "stream",
     "text": [
      " \n",
      "[B] [B] [B] [A] [A] [A]  \n",
      "[B] [B] [B] [A] [A] [B]  \n",
      "[A] [A] [B] [A] [A] [A]  \n",
      "[A] [B] [A] [B] [A] [B]  \n",
      "[B] [B] [B] [A] [A] [A]  \n",
      "[A] [B] [A] [A] [A] [A]  \n",
      "Max Score:  707\n",
      "Min Score:  1093\n",
      "Average Time Per Move Max: 3.14023266898\n",
      "Average Time Per Move Min: 2.80047429932\n",
      "Average Nodes Expanded Per Move Max: 311372.111111\n",
      "Average Nodes Expanded Per Move Min: 269824.388889\n"
     ]
    }
   ],
   "source": [
    "newboard = board(\"game_boards/Narvik.txt\")\n",
    "newWarGame = warGame(newboard)\n",
    "newWarGame.runGame()\n",
    "newWarGame.board.printBoard()\n",
    "print \"Max Score: \", newWarGame.maxScore \n",
    "print \"Min Score: \", newWarGame.minScore\n",
    "print \"Average Time Per Move Max:\", newWarGame.totTimeMax/newWarGame.totMovesMax\n",
    "print \"Average Time Per Move Min:\", newWarGame.totTimeMin/newWarGame.totMovesMin\n",
    "print \"Average Nodes Expanded Per Move Max:\", float(newWarGame.totNodesExpandedMax)/newWarGame.totMovesMax\n",
    "print \"Average Nodes Expanded Per Move Min:\", float(newWarGame.totNodesExpandedMin)/newWarGame.totMovesMin"
   ]
  },
  {
   "cell_type": "code",
   "execution_count": 210,
   "metadata": {
    "collapsed": false
   },
   "outputs": [
    {
     "name": "stdout",
     "output_type": "stream",
     "text": [
      " \n",
      "[A] [B] [B] [A] [A] [A]  \n",
      "[A] [B] [B] [B] [A] [A]  \n",
      "[B] [B] [B] [B] [A] [A]  \n",
      "[B] [B] [B] [B] [A] [A]  \n",
      "[B] [B] [A] [B] [B] [A]  \n",
      "[B] [A] [A] [A] [A] [A]  \n",
      "Max Score:  669\n",
      "Min Score:  984\n",
      "Average Time Per Move Max: 3.06107362111\n",
      "Average Time Per Move Min: 2.72686080138\n",
      "Average Nodes Expanded Per Move Max: 311372.111111\n",
      "Average Nodes Expanded Per Move Min: 269824.388889\n"
     ]
    }
   ],
   "source": [
    "newboard = board(\"game_boards/Smolensk.txt\")\n",
    "newWarGame = warGame(newboard)\n",
    "newWarGame.runGame()\n",
    "newWarGame.board.printBoard()\n",
    "print \"Max Score: \", newWarGame.maxScore \n",
    "print \"Min Score: \", newWarGame.minScore\n",
    "print \"Average Time Per Move Max:\", newWarGame.totTimeMax/newWarGame.totMovesMax\n",
    "print \"Average Time Per Move Min:\", newWarGame.totTimeMin/newWarGame.totMovesMin\n",
    "print \"Average Nodes Expanded Per Move Max:\", float(newWarGame.totNodesExpandedMax)/newWarGame.totMovesMax\n",
    "print \"Average Nodes Expanded Per Move Min:\", float(newWarGame.totNodesExpandedMin)/newWarGame.totMovesMin"
   ]
  },
  {
   "cell_type": "code",
   "execution_count": 211,
   "metadata": {
    "collapsed": false
   },
   "outputs": [
    {
     "name": "stdout",
     "output_type": "stream",
     "text": [
      " \n",
      "[B] [A] [A] [A] [A] [A]  \n",
      "[A] [A] [B] [A] [B] [B]  \n",
      "[B] [B] [B] [B] [B] [B]  \n",
      "[B] [B] [B] [B] [A] [B]  \n",
      "[A] [B] [B] [A] [A] [A]  \n",
      "[A] [B] [B] [B] [A] [A]  \n",
      "Max Score:  29\n",
      "Min Score:  43\n",
      "Average Time Per Move Max: 3.08663049009\n",
      "Average Time Per Move Min: 2.80589638816\n",
      "Average Nodes Expanded Per Move Max: 311372.111111\n",
      "Average Nodes Expanded Per Move Min: 269824.388889\n"
     ]
    }
   ],
   "source": [
    "newboard = board(\"game_boards/Westerplatte.txt\")\n",
    "newWarGame = warGame(newboard)\n",
    "newWarGame.runGame()\n",
    "newWarGame.board.printBoard()\n",
    "print \"Max Score: \", newWarGame.maxScore \n",
    "print \"Min Score: \", newWarGame.minScore\n",
    "print \"Average Time Per Move Max:\", newWarGame.totTimeMax/newWarGame.totMovesMax\n",
    "print \"Average Time Per Move Min:\", newWarGame.totTimeMin/newWarGame.totMovesMin\n",
    "print \"Average Nodes Expanded Per Move Max:\", float(newWarGame.totNodesExpandedMax)/newWarGame.totMovesMax\n",
    "print \"Average Nodes Expanded Per Move Min:\", float(newWarGame.totNodesExpandedMin)/newWarGame.totMovesMin"
   ]
  },
  {
   "cell_type": "markdown",
   "metadata": {},
   "source": [
    "#Alpha-Beta Versus Minimax"
   ]
  },
  {
   "cell_type": "code",
   "execution_count": 212,
   "metadata": {
    "collapsed": false
   },
   "outputs": [
    {
     "name": "stdout",
     "output_type": "stream",
     "text": [
      " \n",
      "[A] [B] [B] [B] [B] [B]  \n",
      "[B] [A] [B] [B] [B] [B]  \n",
      "[A] [A] [A] [B] [B] [B]  \n",
      "[A] [A] [A] [A] [A] [B]  \n",
      "[A] [B] [A] [A] [A] [A]  \n",
      "[B] [B] [B] [A] [A] [A]  \n",
      "Max Score:  18\n",
      "Min Score:  18\n",
      "Average Time Per Move Max: 0.033934103118\n",
      "Average Time Per Move Min: 2.77965705925\n",
      "Average Nodes Expanded Per Move Max: 2159.22222222\n",
      "Average Nodes Expanded Per Move Min: 269824.388889\n"
     ]
    }
   ],
   "source": [
    "newboard = board(\"game_boards/Keren.txt\")\n",
    "newWarGame = warGame(newboard)\n",
    "newWarGame.runGame(1,0)\n",
    "newWarGame.board.printBoard()\n",
    "print \"Max Score: \", newWarGame.maxScore \n",
    "print \"Min Score: \", newWarGame.minScore\n",
    "print \"Average Time Per Move Max:\", newWarGame.totTimeMax/newWarGame.totMovesMax\n",
    "print \"Average Time Per Move Min:\", newWarGame.totTimeMin/newWarGame.totMovesMin\n",
    "print \"Average Nodes Expanded Per Move Max:\", float(newWarGame.totNodesExpandedMax)/newWarGame.totMovesMax\n",
    "print \"Average Nodes Expanded Per Move Min:\", float(newWarGame.totNodesExpandedMin)/newWarGame.totMovesMin"
   ]
  },
  {
   "cell_type": "code",
   "execution_count": 213,
   "metadata": {
    "collapsed": false
   },
   "outputs": [
    {
     "name": "stdout",
     "output_type": "stream",
     "text": [
      " \n",
      "[B] [A] [B] [B] [A] [B]  \n",
      "[A] [A] [A] [B] [B] [B]  \n",
      "[B] [A] [A] [A] [B] [B]  \n",
      "[B] [B] [A] [A] [A] [A]  \n",
      "[B] [A] [A] [A] [B] [A]  \n",
      "[A] [A] [A] [B] [A] [A]  \n",
      "Max Score:  805\n",
      "Min Score:  995\n",
      "Average Time Per Move Max: 0.102795375718\n",
      "Average Time Per Move Min: 2.80558727847\n",
      "Average Nodes Expanded Per Move Max: 7216.83333333\n",
      "Average Nodes Expanded Per Move Min: 269824.388889\n"
     ]
    }
   ],
   "source": [
    "newboard = board(\"game_boards/Narvik.txt\")\n",
    "newWarGame = warGame(newboard)\n",
    "newWarGame.runGame(1,0)\n",
    "newWarGame.board.printBoard()\n",
    "print \"Max Score: \", newWarGame.maxScore \n",
    "print \"Min Score: \", newWarGame.minScore\n",
    "print \"Average Time Per Move Max:\", newWarGame.totTimeMax/newWarGame.totMovesMax\n",
    "print \"Average Time Per Move Min:\", newWarGame.totTimeMin/newWarGame.totMovesMin\n",
    "print \"Average Nodes Expanded Per Move Max:\", float(newWarGame.totNodesExpandedMax)/newWarGame.totMovesMax\n",
    "print \"Average Nodes Expanded Per Move Min:\", float(newWarGame.totNodesExpandedMin)/newWarGame.totMovesMin"
   ]
  },
  {
   "cell_type": "code",
   "execution_count": 214,
   "metadata": {
    "collapsed": false
   },
   "outputs": [
    {
     "name": "stdout",
     "output_type": "stream",
     "text": [
      " \n",
      "[A] [A] [A] [A] [A] [A]  \n",
      "[A] [B] [A] [B] [A] [B]  \n",
      "[B] [B] [B] [A] [A] [B]  \n",
      "[B] [B] [B] [A] [A] [A]  \n",
      "[B] [A] [B] [B] [A] [A]  \n",
      "[B] [B] [B] [A] [A] [B]  \n",
      "Max Score:  637\n",
      "Min Score:  1016\n",
      "Average Time Per Move Max: 0.349237442017\n",
      "Average Time Per Move Min: 2.73215811782\n",
      "Average Nodes Expanded Per Move Max: 28999.0\n",
      "Average Nodes Expanded Per Move Min: 269824.388889\n"
     ]
    }
   ],
   "source": [
    "newboard = board(\"game_boards/Smolensk.txt\")\n",
    "newWarGame = warGame(newboard)\n",
    "newWarGame.runGame(1,0)\n",
    "newWarGame.board.printBoard()\n",
    "print \"Max Score: \", newWarGame.maxScore \n",
    "print \"Min Score: \", newWarGame.minScore\n",
    "print \"Average Time Per Move Max:\", newWarGame.totTimeMax/newWarGame.totMovesMax\n",
    "print \"Average Time Per Move Min:\", newWarGame.totTimeMin/newWarGame.totMovesMin\n",
    "print \"Average Nodes Expanded Per Move Max:\", float(newWarGame.totNodesExpandedMax)/newWarGame.totMovesMax\n",
    "print \"Average Nodes Expanded Per Move Min:\", float(newWarGame.totNodesExpandedMin)/newWarGame.totMovesMin"
   ]
  },
  {
   "cell_type": "code",
   "execution_count": 215,
   "metadata": {
    "collapsed": false
   },
   "outputs": [
    {
     "name": "stdout",
     "output_type": "stream",
     "text": [
      " \n",
      "[A] [B] [A] [A] [B] [A]  \n",
      "[B] [A] [A] [A] [A] [A]  \n",
      "[A] [B] [A] [A] [A] [A]  \n",
      "[B] [B] [A] [B] [A] [A]  \n",
      "[B] [B] [B] [A] [A] [B]  \n",
      "[B] [B] [A] [B] [B] [B]  \n",
      "Max Score:  44\n",
      "Min Score:  28\n",
      "Average Time Per Move Max: 0.105349606938\n",
      "Average Time Per Move Min: 2.72223614322\n",
      "Average Nodes Expanded Per Move Max: 8407.55555556\n",
      "Average Nodes Expanded Per Move Min: 269824.388889\n"
     ]
    }
   ],
   "source": [
    "newboard = board(\"game_boards/Westerplatte.txt\")\n",
    "newWarGame = warGame(newboard)\n",
    "newWarGame.runGame(1,0)\n",
    "newWarGame.board.printBoard()\n",
    "print \"Max Score: \", newWarGame.maxScore \n",
    "print \"Min Score: \", newWarGame.minScore\n",
    "print \"Average Time Per Move Max:\", newWarGame.totTimeMax/newWarGame.totMovesMax\n",
    "print \"Average Time Per Move Min:\", newWarGame.totTimeMin/newWarGame.totMovesMin\n",
    "print \"Average Nodes Expanded Per Move Max:\", float(newWarGame.totNodesExpandedMax)/newWarGame.totMovesMax\n",
    "print \"Average Nodes Expanded Per Move Min:\", float(newWarGame.totNodesExpandedMin)/newWarGame.totMovesMin"
   ]
  },
  {
   "cell_type": "markdown",
   "metadata": {},
   "source": [
    "#Minimax Versus Alpha-Beta"
   ]
  },
  {
   "cell_type": "code",
   "execution_count": 216,
   "metadata": {
    "collapsed": false
   },
   "outputs": [
    {
     "name": "stdout",
     "output_type": "stream",
     "text": [
      " \n",
      "[A] [A] [B] [B] [B] [A]  \n",
      "[A] [B] [B] [B] [B] [B]  \n",
      "[B] [A] [B] [B] [B] [A]  \n",
      "[B] [A] [A] [B] [A] [B]  \n",
      "[A] [A] [A] [A] [B] [A]  \n",
      "[B] [A] [A] [A] [A] [A]  \n",
      "Max Score:  19\n",
      "Min Score:  17\n",
      "Average Time Per Move Max: 3.04249542289\n",
      "Average Time Per Move Min: 0.0201575623618\n",
      "Average Nodes Expanded Per Move Max: 311372.111111\n",
      "Average Nodes Expanded Per Move Min: 1238.05555556\n"
     ]
    }
   ],
   "source": [
    "newboard = board(\"game_boards/Keren.txt\")\n",
    "newWarGame = warGame(newboard)\n",
    "newWarGame.runGame(0,1)\n",
    "newWarGame.board.printBoard()\n",
    "print \"Max Score: \", newWarGame.maxScore \n",
    "print \"Min Score: \", newWarGame.minScore\n",
    "print \"Average Time Per Move Max:\", newWarGame.totTimeMax/newWarGame.totMovesMax\n",
    "print \"Average Time Per Move Min:\", newWarGame.totTimeMin/newWarGame.totMovesMin\n",
    "print \"Average Nodes Expanded Per Move Max:\", float(newWarGame.totNodesExpandedMax)/newWarGame.totMovesMax\n",
    "print \"Average Nodes Expanded Per Move Min:\", float(newWarGame.totNodesExpandedMin)/newWarGame.totMovesMin"
   ]
  },
  {
   "cell_type": "code",
   "execution_count": 217,
   "metadata": {
    "collapsed": false
   },
   "outputs": [
    {
     "name": "stdout",
     "output_type": "stream",
     "text": [
      " \n",
      "[B] [A] [A] [A] [B] [B]  \n",
      "[A] [A] [A] [A] [A] [B]  \n",
      "[B] [A] [A] [A] [B] [B]  \n",
      "[B] [A] [A] [B] [B] [B]  \n",
      "[A] [A] [A] [B] [B] [B]  \n",
      "[A] [A] [A] [B] [B] [B]  \n",
      "Max Score:  803\n",
      "Min Score:  997\n",
      "Average Time Per Move Max: 3.13592682944\n",
      "Average Time Per Move Min: 0.0865450832579\n",
      "Average Nodes Expanded Per Move Max: 311372.111111\n",
      "Average Nodes Expanded Per Move Min: 6353.66666667\n"
     ]
    }
   ],
   "source": [
    "newboard = board(\"game_boards/Narvik.txt\")\n",
    "newWarGame = warGame(newboard)\n",
    "newWarGame.runGame(0,1)\n",
    "newWarGame.board.printBoard()\n",
    "print \"Max Score: \", newWarGame.maxScore \n",
    "print \"Min Score: \", newWarGame.minScore\n",
    "print \"Average Time Per Move Max:\", newWarGame.totTimeMax/newWarGame.totMovesMax\n",
    "print \"Average Time Per Move Min:\", newWarGame.totTimeMin/newWarGame.totMovesMin\n",
    "print \"Average Nodes Expanded Per Move Max:\", float(newWarGame.totNodesExpandedMax)/newWarGame.totMovesMax\n",
    "print \"Average Nodes Expanded Per Move Min:\", float(newWarGame.totNodesExpandedMin)/newWarGame.totMovesMin"
   ]
  },
  {
   "cell_type": "code",
   "execution_count": 218,
   "metadata": {
    "collapsed": false
   },
   "outputs": [
    {
     "name": "stdout",
     "output_type": "stream",
     "text": [
      " \n",
      "[B] [A] [B] [B] [B] [B]  \n",
      "[A] [B] [B] [B] [A] [B]  \n",
      "[A] [A] [B] [A] [B] [B]  \n",
      "[A] [B] [A] [A] [A] [B]  \n",
      "[B] [A] [A] [A] [B] [A]  \n",
      "[A] [A] [A] [B] [B] [B]  \n",
      "Max Score:  907\n",
      "Min Score:  746\n",
      "Average Time Per Move Max: 3.17459656133\n",
      "Average Time Per Move Min: 0.341068519486\n",
      "Average Nodes Expanded Per Move Max: 311372.111111\n",
      "Average Nodes Expanded Per Move Min: 26850.8888889\n"
     ]
    }
   ],
   "source": [
    "newboard = board(\"game_boards/Smolensk.txt\")\n",
    "newWarGame = warGame(newboard)\n",
    "newWarGame.runGame(0,1)\n",
    "newWarGame.board.printBoard()\n",
    "print \"Max Score: \", newWarGame.maxScore \n",
    "print \"Min Score: \", newWarGame.minScore\n",
    "print \"Average Time Per Move Max:\", newWarGame.totTimeMax/newWarGame.totMovesMax\n",
    "print \"Average Time Per Move Min:\", newWarGame.totTimeMin/newWarGame.totMovesMin\n",
    "print \"Average Nodes Expanded Per Move Max:\", float(newWarGame.totNodesExpandedMax)/newWarGame.totMovesMax\n",
    "print \"Average Nodes Expanded Per Move Min:\", float(newWarGame.totNodesExpandedMin)/newWarGame.totMovesMin"
   ]
  },
  {
   "cell_type": "code",
   "execution_count": 219,
   "metadata": {
    "collapsed": false
   },
   "outputs": [
    {
     "name": "stdout",
     "output_type": "stream",
     "text": [
      " \n",
      "[B] [A] [B] [B] [A] [A]  \n",
      "[A] [A] [B] [B] [B] [B]  \n",
      "[A] [A] [B] [B] [A] [B]  \n",
      "[A] [B] [B] [A] [A] [A]  \n",
      "[A] [B] [B] [B] [A] [B]  \n",
      "[A] [A] [B] [B] [B] [B]  \n",
      "Max Score:  30\n",
      "Min Score:  42\n",
      "Average Time Per Move Max: 3.01859871546\n",
      "Average Time Per Move Min: 0.0913686090046\n",
      "Average Nodes Expanded Per Move Max: 311372.111111\n",
      "Average Nodes Expanded Per Move Min: 7290.05555556\n"
     ]
    }
   ],
   "source": [
    "newboard = board(\"game_boards/Westerplatte.txt\")\n",
    "newWarGame = warGame(newboard)\n",
    "newWarGame.runGame(0,1)\n",
    "newWarGame.board.printBoard()\n",
    "print \"Max Score: \", newWarGame.maxScore \n",
    "print \"Min Score: \", newWarGame.minScore\n",
    "print \"Average Time Per Move Max:\", newWarGame.totTimeMax/newWarGame.totMovesMax\n",
    "print \"Average Time Per Move Min:\", newWarGame.totTimeMin/newWarGame.totMovesMin\n",
    "print \"Average Nodes Expanded Per Move Max:\", float(newWarGame.totNodesExpandedMax)/newWarGame.totMovesMax\n",
    "print \"Average Nodes Expanded Per Move Min:\", float(newWarGame.totNodesExpandedMin)/newWarGame.totMovesMin"
   ]
  },
  {
   "cell_type": "markdown",
   "metadata": {},
   "source": [
    "#Alpha-Beta Search Versus Alpha-Beta Search"
   ]
  },
  {
   "cell_type": "code",
   "execution_count": 220,
   "metadata": {
    "collapsed": false
   },
   "outputs": [
    {
     "name": "stdout",
     "output_type": "stream",
     "text": [
      " \n",
      "[A] [B] [A] [A] [A] [A]  \n",
      "[B] [B] [B] [A] [B] [A]  \n",
      "[A] [B] [A] [B] [A] [A]  \n",
      "[A] [A] [A] [A] [B] [A]  \n",
      "[A] [A] [B] [B] [B] [A]  \n",
      "[A] [B] [B] [B] [B] [B]  \n",
      "Max Score:  20\n",
      "Min Score:  16\n",
      "Average Time Per Move Max: 0.0176155964533\n",
      "Average Time Per Move Min: 0.0183731847339\n",
      "Average Nodes Expanded Per Move Max: 1172.33333333\n",
      "Average Nodes Expanded Per Move Min: 1181.72222222\n"
     ]
    }
   ],
   "source": [
    "newboard = board(\"game_boards/Keren.txt\")\n",
    "newWarGame = warGame(newboard)\n",
    "newWarGame.runGame(1,1)\n",
    "newWarGame.board.printBoard()\n",
    "print \"Max Score: \", newWarGame.maxScore \n",
    "print \"Min Score: \", newWarGame.minScore\n",
    "print \"Average Time Per Move Max:\", newWarGame.totTimeMax/newWarGame.totMovesMax\n",
    "print \"Average Time Per Move Min:\", newWarGame.totTimeMin/newWarGame.totMovesMin\n",
    "print \"Average Nodes Expanded Per Move Max:\", float(newWarGame.totNodesExpandedMax)/newWarGame.totMovesMax\n",
    "print \"Average Nodes Expanded Per Move Min:\", float(newWarGame.totNodesExpandedMin)/newWarGame.totMovesMin"
   ]
  },
  {
   "cell_type": "code",
   "execution_count": 221,
   "metadata": {
    "collapsed": false
   },
   "outputs": [
    {
     "name": "stdout",
     "output_type": "stream",
     "text": [
      " \n",
      "[A] [A] [B] [B] [B] [B]  \n",
      "[A] [A] [A] [A] [B] [B]  \n",
      "[A] [B] [B] [B] [B] [B]  \n",
      "[B] [B] [B] [A] [B] [A]  \n",
      "[A] [B] [B] [B] [B] [B]  \n",
      "[A] [A] [A] [B] [B] [A]  \n",
      "Max Score:  896\n",
      "Min Score:  904\n",
      "Average Time Per Move Max: 0.0830285549164\n",
      "Average Time Per Move Min: 0.0856144295798\n",
      "Average Nodes Expanded Per Move Max: 6411.44444444\n",
      "Average Nodes Expanded Per Move Min: 6446.33333333\n"
     ]
    }
   ],
   "source": [
    "newboard = board(\"game_boards/Narvik.txt\")\n",
    "newWarGame = warGame(newboard)\n",
    "newWarGame.runGame(1,1)\n",
    "newWarGame.board.printBoard()\n",
    "print \"Max Score: \", newWarGame.maxScore \n",
    "print \"Min Score: \", newWarGame.minScore\n",
    "print \"Average Time Per Move Max:\", newWarGame.totTimeMax/newWarGame.totMovesMax\n",
    "print \"Average Time Per Move Min:\", newWarGame.totTimeMin/newWarGame.totMovesMin\n",
    "print \"Average Nodes Expanded Per Move Max:\", float(newWarGame.totNodesExpandedMax)/newWarGame.totMovesMax\n",
    "print \"Average Nodes Expanded Per Move Min:\", float(newWarGame.totNodesExpandedMin)/newWarGame.totMovesMin"
   ]
  },
  {
   "cell_type": "code",
   "execution_count": 225,
   "metadata": {
    "collapsed": false
   },
   "outputs": [
    {
     "name": "stdout",
     "output_type": "stream",
     "text": [
      " \n",
      "[B] [B] [B] [A] [A] [B]  \n",
      "[A] [B] [B] [A] [A] [A]  \n",
      "[B] [B] [A] [A] [A] [A]  \n",
      "[B] [B] [B] [A] [A] [A]  \n",
      "[B] [B] [A] [A] [A] [A]  \n",
      "[A] [B] [B] [A] [B] [A]  \n",
      "Max Score:  703\n",
      "Min Score:  950\n",
      "Average Time Per Move Max: 0.337630126211\n",
      "Average Time Per Move Min: 0.310641010602\n",
      "Average Nodes Expanded Per Move Max: 29628.3333333\n",
      "Average Nodes Expanded Per Move Min: 26746.0\n"
     ]
    }
   ],
   "source": [
    "newboard = board(\"game_boards/Smolensk.txt\")\n",
    "newWarGame = warGame(newboard)\n",
    "newWarGame.runGame(1,1)\n",
    "newWarGame.board.printBoard()\n",
    "print \"Max Score: \", newWarGame.maxScore \n",
    "print \"Min Score: \", newWarGame.minScore\n",
    "print \"Average Time Per Move Max:\", newWarGame.totTimeMax/newWarGame.totMovesMax\n",
    "print \"Average Time Per Move Min:\", newWarGame.totTimeMin/newWarGame.totMovesMin\n",
    "print \"Average Nodes Expanded Per Move Max:\", float(newWarGame.totNodesExpandedMax)/newWarGame.totMovesMax\n",
    "print \"Average Nodes Expanded Per Move Min:\", float(newWarGame.totNodesExpandedMin)/newWarGame.totMovesMin"
   ]
  },
  {
   "cell_type": "code",
   "execution_count": 224,
   "metadata": {
    "collapsed": false
   },
   "outputs": [
    {
     "name": "stdout",
     "output_type": "stream",
     "text": [
      " \n",
      "[A] [B] [A] [A] [B] [A]  \n",
      "[A] [A] [A] [A] [B] [B]  \n",
      "[A] [A] [A] [B] [B] [B]  \n",
      "[A] [A] [A] [B] [B] [B]  \n",
      "[A] [A] [B] [B] [A] [B]  \n",
      "[A] [B] [B] [B] [B] [B]  \n",
      "Max Score:  38\n",
      "Min Score:  34\n",
      "Average Time Per Move Max: 0.128967761993\n",
      "Average Time Per Move Min: 0.117954942915\n",
      "Average Nodes Expanded Per Move Max: 9093.16666667\n",
      "Average Nodes Expanded Per Move Min: 8152.72222222\n"
     ]
    }
   ],
   "source": [
    "newboard = board(\"game_boards/Westerplatte.txt\")\n",
    "newWarGame = warGame(newboard)\n",
    "newWarGame.runGame(1,1)\n",
    "newWarGame.board.printBoard()\n",
    "print \"Max Score: \", newWarGame.maxScore \n",
    "print \"Min Score: \", newWarGame.minScore\n",
    "print \"Average Time Per Move Max:\", newWarGame.totTimeMax/newWarGame.totMovesMax\n",
    "print \"Average Time Per Move Min:\", newWarGame.totTimeMin/newWarGame.totMovesMin\n",
    "print \"Average Nodes Expanded Per Move Max:\", float(newWarGame.totNodesExpandedMax)/newWarGame.totMovesMax\n",
    "print \"Average Nodes Expanded Per Move Min:\", float(newWarGame.totNodesExpandedMin)/newWarGame.totMovesMin"
   ]
  },
  {
   "cell_type": "code",
   "execution_count": null,
   "metadata": {
    "collapsed": true
   },
   "outputs": [],
   "source": []
  }
 ],
 "metadata": {
  "kernelspec": {
   "display_name": "Python 2",
   "language": "python",
   "name": "python2"
  },
  "language_info": {
   "codemirror_mode": {
    "name": "ipython",
    "version": 2
   },
   "file_extension": ".py",
   "mimetype": "text/x-python",
   "name": "python",
   "nbconvert_exporter": "python",
   "pygments_lexer": "ipython2",
   "version": "2.7.6"
  }
 },
 "nbformat": 4,
 "nbformat_minor": 0
}
